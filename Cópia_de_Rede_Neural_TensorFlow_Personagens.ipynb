{
  "nbformat": 4,
  "nbformat_minor": 0,
  "metadata": {
    "colab": {
      "name": "Cópia de Rede Neural TensorFlow Personagens.ipynb",
      "provenance": [],
      "collapsed_sections": []
    },
    "kernelspec": {
      "name": "python3",
      "display_name": "Python 3"
    }
  },
  "cells": [
    {
      "cell_type": "markdown",
      "metadata": {
        "id": "Sd_h453YseEx"
      },
      "source": [
        "# Rede Neural com TensorFlow - Personagens"
      ]
    },
    {
      "cell_type": "code",
      "source": [
        "from google.colab import drive\n",
        "drive.mount('/content/drive')"
      ],
      "metadata": {
        "id": "hP8FwT6aj7m9"
      },
      "execution_count": null,
      "outputs": []
    },
    {
      "cell_type": "markdown",
      "metadata": {
        "id": "nA9a2AFmsiFJ"
      },
      "source": [
        "## Importação das bibliotecas"
      ]
    },
    {
      "cell_type": "code",
      "metadata": {
        "id": "PXXSgPpi1gwj",
        "colab": {
          "base_uri": "https://localhost:8080/",
          "height": 57
        },
        "outputId": "2ac0a3ae-f9c9-499a-a024-44b934a2693c"
      },
      "source": [
        "import tensorflow as tf #para ter acesso as funcionalidades de redes neurais\n",
        "import pandas as pd #leitura de dados e manipulação de dados\n",
        "import numpy as np #para leitura de vetores e matrizes\n",
        "import seaborn as sns #para gráficos usando python\n",
        "import matplotlib.pyplot as plt # para ter acesso a gráficos\n",
        "tf.__version__ # para saber a versão do ternsorflow que será utilizada nesse exemplo"
      ],
      "execution_count": null,
      "outputs": [
        {
          "output_type": "execute_result",
          "data": {
            "application/vnd.google.colaboratory.intrinsic+json": {
              "type": "string"
            },
            "text/plain": [
              "'2.3.0'"
            ]
          },
          "metadata": {
            "tags": []
          },
          "execution_count": 2
        }
      ]
    },
    {
      "cell_type": "markdown",
      "metadata": {
        "id": "kI34B4iXt6tF"
      },
      "source": [
        "## Carregamento da base de dados"
      ]
    },
    {
      "cell_type": "code",
      "metadata": {
        "id": "wHD56A292Qh-"
      },
      "source": [
        "dataset = pd.read_csv('personagens.csv')"
      ],
      "execution_count": null,
      "outputs": []
    },
    {
      "cell_type": "markdown",
      "source": [
        "# Nova seção"
      ],
      "metadata": {
        "id": "c9eSwIQnjgDj"
      }
    },
    {
      "cell_type": "code",
      "metadata": {
        "id": "mUeW7FCd2l6Q",
        "colab": {
          "base_uri": "https://localhost:8080/",
          "height": 55
        },
        "outputId": "ae82898a-91a4-42f3-9acc-58a6f33ad03c"
      },
      "source": [
        "dataset.shape #para nos dizer que tem 293 linhas e 7 colunas"
      ],
      "execution_count": null,
      "outputs": [
        {
          "output_type": "execute_result",
          "data": {
            "text/plain": [
              "(293, 7)"
            ]
          },
          "metadata": {
            "tags": []
          },
          "execution_count": 4
        }
      ]
    },
    {
      "cell_type": "code",
      "metadata": {
        "id": "Rv-4fgXx2uct",
        "colab": {
          "base_uri": "https://localhost:8080/",
          "height": 228
        },
        "outputId": "39dfdc8c-0f85-4558-9521-2da8689553d5"
      },
      "source": [
        "dataset.head() # nos dá as 5 primeiras linhas"
      ],
      "execution_count": null,
      "outputs": [
        {
          "output_type": "execute_result",
          "data": {
            "text/html": [
              "<div>\n",
              "<style scoped>\n",
              "    .dataframe tbody tr th:only-of-type {\n",
              "        vertical-align: middle;\n",
              "    }\n",
              "\n",
              "    .dataframe tbody tr th {\n",
              "        vertical-align: top;\n",
              "    }\n",
              "\n",
              "    .dataframe thead th {\n",
              "        text-align: right;\n",
              "    }\n",
              "</style>\n",
              "<table border=\"1\" class=\"dataframe\">\n",
              "  <thead>\n",
              "    <tr style=\"text-align: right;\">\n",
              "      <th></th>\n",
              "      <th>laranja_camisa_bart</th>\n",
              "      <th>azul_calcao_bart</th>\n",
              "      <th>azul_sapato_bart</th>\n",
              "      <th>marrom_boca_homer</th>\n",
              "      <th>azul_calca_homer</th>\n",
              "      <th>cinza_sapato_homer</th>\n",
              "      <th>classe</th>\n",
              "    </tr>\n",
              "  </thead>\n",
              "  <tbody>\n",
              "    <tr>\n",
              "      <th>0</th>\n",
              "      <td>6.886102</td>\n",
              "      <td>3.495204</td>\n",
              "      <td>1.484984</td>\n",
              "      <td>0.000000</td>\n",
              "      <td>0.0</td>\n",
              "      <td>0.062954</td>\n",
              "      <td>Bart</td>\n",
              "    </tr>\n",
              "    <tr>\n",
              "      <th>1</th>\n",
              "      <td>5.004901</td>\n",
              "      <td>3.183889</td>\n",
              "      <td>1.000142</td>\n",
              "      <td>0.000000</td>\n",
              "      <td>0.0</td>\n",
              "      <td>0.033024</td>\n",
              "      <td>Bart</td>\n",
              "    </tr>\n",
              "    <tr>\n",
              "      <th>2</th>\n",
              "      <td>5.264620</td>\n",
              "      <td>5.029683</td>\n",
              "      <td>0.283567</td>\n",
              "      <td>0.000000</td>\n",
              "      <td>0.0</td>\n",
              "      <td>0.151573</td>\n",
              "      <td>Bart</td>\n",
              "    </tr>\n",
              "    <tr>\n",
              "      <th>3</th>\n",
              "      <td>0.000000</td>\n",
              "      <td>0.000000</td>\n",
              "      <td>0.000000</td>\n",
              "      <td>0.480168</td>\n",
              "      <td>0.0</td>\n",
              "      <td>0.021164</td>\n",
              "      <td>Bart</td>\n",
              "    </tr>\n",
              "    <tr>\n",
              "      <th>4</th>\n",
              "      <td>8.978929</td>\n",
              "      <td>3.459119</td>\n",
              "      <td>0.000000</td>\n",
              "      <td>0.000000</td>\n",
              "      <td>0.0</td>\n",
              "      <td>0.011593</td>\n",
              "      <td>Bart</td>\n",
              "    </tr>\n",
              "  </tbody>\n",
              "</table>\n",
              "</div>"
            ],
            "text/plain": [
              "   laranja_camisa_bart  azul_calcao_bart  ...  cinza_sapato_homer  classe\n",
              "0             6.886102          3.495204  ...            0.062954    Bart\n",
              "1             5.004901          3.183889  ...            0.033024    Bart\n",
              "2             5.264620          5.029683  ...            0.151573    Bart\n",
              "3             0.000000          0.000000  ...            0.021164    Bart\n",
              "4             8.978929          3.459119  ...            0.011593    Bart\n",
              "\n",
              "[5 rows x 7 columns]"
            ]
          },
          "metadata": {
            "tags": []
          },
          "execution_count": 5
        }
      ]
    },
    {
      "cell_type": "code",
      "metadata": {
        "id": "_osbJtc12z7C",
        "colab": {
          "base_uri": "https://localhost:8080/",
          "height": 228
        },
        "outputId": "31d7e0d6-6205-4be5-8f1d-2287bb5586f7"
      },
      "source": [
        "dataset.tail() # Nos dá as últimas 5 linhas"
      ],
      "execution_count": null,
      "outputs": [
        {
          "output_type": "execute_result",
          "data": {
            "text/html": [
              "<div>\n",
              "<style scoped>\n",
              "    .dataframe tbody tr th:only-of-type {\n",
              "        vertical-align: middle;\n",
              "    }\n",
              "\n",
              "    .dataframe tbody tr th {\n",
              "        vertical-align: top;\n",
              "    }\n",
              "\n",
              "    .dataframe thead th {\n",
              "        text-align: right;\n",
              "    }\n",
              "</style>\n",
              "<table border=\"1\" class=\"dataframe\">\n",
              "  <thead>\n",
              "    <tr style=\"text-align: right;\">\n",
              "      <th></th>\n",
              "      <th>laranja_camisa_bart</th>\n",
              "      <th>azul_calcao_bart</th>\n",
              "      <th>azul_sapato_bart</th>\n",
              "      <th>marrom_boca_homer</th>\n",
              "      <th>azul_calca_homer</th>\n",
              "      <th>cinza_sapato_homer</th>\n",
              "      <th>classe</th>\n",
              "    </tr>\n",
              "  </thead>\n",
              "  <tbody>\n",
              "    <tr>\n",
              "      <th>288</th>\n",
              "      <td>0.0</td>\n",
              "      <td>0.0</td>\n",
              "      <td>0.0</td>\n",
              "      <td>0.000000</td>\n",
              "      <td>6.485412</td>\n",
              "      <td>0.093921</td>\n",
              "      <td>Homer</td>\n",
              "    </tr>\n",
              "    <tr>\n",
              "      <th>289</th>\n",
              "      <td>0.0</td>\n",
              "      <td>0.0</td>\n",
              "      <td>0.0</td>\n",
              "      <td>0.000000</td>\n",
              "      <td>0.000000</td>\n",
              "      <td>0.042194</td>\n",
              "      <td>Homer</td>\n",
              "    </tr>\n",
              "    <tr>\n",
              "      <th>290</th>\n",
              "      <td>0.0</td>\n",
              "      <td>0.0</td>\n",
              "      <td>0.0</td>\n",
              "      <td>0.000000</td>\n",
              "      <td>4.263629</td>\n",
              "      <td>0.076761</td>\n",
              "      <td>Homer</td>\n",
              "    </tr>\n",
              "    <tr>\n",
              "      <th>291</th>\n",
              "      <td>0.0</td>\n",
              "      <td>0.0</td>\n",
              "      <td>0.0</td>\n",
              "      <td>0.000000</td>\n",
              "      <td>1.429133</td>\n",
              "      <td>0.017013</td>\n",
              "      <td>Homer</td>\n",
              "    </tr>\n",
              "    <tr>\n",
              "      <th>292</th>\n",
              "      <td>0.0</td>\n",
              "      <td>0.0</td>\n",
              "      <td>0.0</td>\n",
              "      <td>13.744248</td>\n",
              "      <td>0.853902</td>\n",
              "      <td>0.063546</td>\n",
              "      <td>Homer</td>\n",
              "    </tr>\n",
              "  </tbody>\n",
              "</table>\n",
              "</div>"
            ],
            "text/plain": [
              "     laranja_camisa_bart  azul_calcao_bart  ...  cinza_sapato_homer  classe\n",
              "288                  0.0               0.0  ...            0.093921   Homer\n",
              "289                  0.0               0.0  ...            0.042194   Homer\n",
              "290                  0.0               0.0  ...            0.076761   Homer\n",
              "291                  0.0               0.0  ...            0.017013   Homer\n",
              "292                  0.0               0.0  ...            0.063546   Homer\n",
              "\n",
              "[5 rows x 7 columns]"
            ]
          },
          "metadata": {
            "tags": []
          },
          "execution_count": 6
        }
      ]
    },
    {
      "cell_type": "code",
      "metadata": {
        "id": "AeuZ77E6278Y",
        "colab": {
          "base_uri": "https://localhost:8080/",
          "height": 316
        },
        "outputId": "6703593f-729f-4be6-fb8e-055dcc841bbf"
      },
      "source": [
        "sns.countplot(x = 'classe', data=dataset) #Nos dá a qtt de imagens do bart e homer"
      ],
      "execution_count": null,
      "outputs": [
        {
          "output_type": "execute_result",
          "data": {
            "text/plain": [
              "<matplotlib.axes._subplots.AxesSubplot at 0x7f6b99576128>"
            ]
          },
          "metadata": {
            "tags": []
          },
          "execution_count": 7
        },
        {
          "output_type": "display_data",
          "data": {
            "image/png": "[encoded data removed]",
            "text/plain": [
              "<Figure size 432x288 with 1 Axes>"
            ]
          },
          "metadata": {
            "tags": [],
            "needs_background": "light"
          }
        }
      ]
    },
    {
      "cell_type": "code",
      "metadata": {
        "id": "FXCsZAFK3Ivb",
        "colab": {
          "base_uri": "https://localhost:8080/",
          "height": 200
        },
        "outputId": "e5147625-b6d7-4628-dae5-1a7a88341971"
      },
      "source": [
        "sns.heatmap(dataset.corr(), annot=True) \n",
        "#Essa biblioteca é impotante para a visualização dos dados\n",
        "#As correlações negativas simbolizam que as características do bart não tem a ver com as do homer"
      ],
      "execution_count": 9,
      "outputs": [
        {
          "output_type": "error",
          "ename": "NameError",
          "evalue": "ignored",
          "traceback": [
            "\u001b[0;31m---------------------------------------------------------------------------\u001b[0m",
            "\u001b[0;31mNameError\u001b[0m                                 Traceback (most recent call last)",
            "\u001b[0;32m<ipython-input-9-460a27e11224>\u001b[0m in \u001b[0;36m<module>\u001b[0;34m()\u001b[0m\n\u001b[0;32m----> 1\u001b[0;31m \u001b[0msns\u001b[0m\u001b[0;34m.\u001b[0m\u001b[0mheatmap\u001b[0m\u001b[0;34m(\u001b[0m\u001b[0mdataset\u001b[0m\u001b[0;34m.\u001b[0m\u001b[0mcorr\u001b[0m\u001b[0;34m(\u001b[0m\u001b[0;34m)\u001b[0m\u001b[0;34m,\u001b[0m \u001b[0mannot\u001b[0m\u001b[0;34m=\u001b[0m\u001b[0;32mTrue\u001b[0m\u001b[0;34m)\u001b[0m\u001b[0;34m\u001b[0m\u001b[0;34m\u001b[0m\u001b[0m\n\u001b[0m\u001b[1;32m      2\u001b[0m \u001b[0;34m\u001b[0m\u001b[0m\n\u001b[1;32m      3\u001b[0m \u001b[0;31m#As correlações negativas simbolizam que as características do bart não tem a ver com as do homer\u001b[0m\u001b[0;34m\u001b[0m\u001b[0;34m\u001b[0m\u001b[0;34m\u001b[0m\u001b[0m\n",
            "\u001b[0;31mNameError\u001b[0m: name 'sns' is not defined"
          ]
        }
      ]
    },
    {
      "cell_type": "code",
      "metadata": {
        "id": "p-UCO6M74F4a",
        "colab": {
          "base_uri": "https://localhost:8080/",
          "height": 266
        },
        "outputId": "0c3bc6ab-4ec6-4eb4-8045-da018624d0b1"
      },
      "source": [
        "X = dataset.iloc[:, 0:6].values\n",
        "X"
      ],
      "execution_count": null,
      "outputs": [
        {
          "output_type": "execute_result",
          "data": {
            "text/plain": [
              "array([[ 6.886102  ,  3.4952044 ,  1.4849836 ,  0.        ,  0.        ,\n",
              "         0.06295441],\n",
              "       [ 5.004901  ,  3.1838887 ,  1.0001415 ,  0.        ,  0.        ,\n",
              "         0.03302354],\n",
              "       [ 5.2646203 ,  5.0296826 ,  0.283567  ,  0.        ,  0.        ,\n",
              "         0.15157256],\n",
              "       ...,\n",
              "       [ 0.        ,  0.        ,  0.        ,  0.        ,  4.2636285 ,\n",
              "         0.07676148],\n",
              "       [ 0.        ,  0.        ,  0.        ,  0.        ,  1.4291335 ,\n",
              "         0.01701349],\n",
              "       [ 0.        ,  0.        ,  0.        , 13.744248  ,  0.853902  ,\n",
              "         0.0635462 ]])"
            ]
          },
          "metadata": {
            "tags": []
          },
          "execution_count": 9
        }
      ]
    },
    {
      "cell_type": "code",
      "metadata": {
        "id": "AreJwWlZ4aOp",
        "colab": {
          "base_uri": "https://localhost:8080/",
          "height": 724
        },
        "outputId": "62dcb46b-b22c-4662-a75d-007892341533"
      },
      "source": [
        "y = dataset.iloc[:, 6].values\n",
        "y"
      ],
      "execution_count": null,
      "outputs": [
        {
          "output_type": "execute_result",
          "data": {
            "text/plain": [
              "array(['Bart', 'Bart', 'Bart', 'Bart', 'Bart', 'Bart', 'Bart', 'Bart',\n",
              "       'Bart', 'Bart', 'Bart', 'Bart', 'Bart', 'Bart', 'Bart', 'Bart',\n",
              "       'Bart', 'Bart', 'Bart', 'Bart', 'Bart', 'Bart', 'Bart', 'Bart',\n",
              "       'Bart', 'Bart', 'Bart', 'Bart', 'Bart', 'Bart', 'Bart', 'Bart',\n",
              "       'Bart', 'Bart', 'Bart', 'Bart', 'Bart', 'Bart', 'Bart', 'Bart',\n",
              "       'Bart', 'Bart', 'Bart', 'Bart', 'Bart', 'Bart', 'Bart', 'Bart',\n",
              "       'Bart', 'Bart', 'Bart', 'Bart', 'Bart', 'Bart', 'Bart', 'Bart',\n",
              "       'Bart', 'Bart', 'Bart', 'Bart', 'Bart', 'Bart', 'Bart', 'Bart',\n",
              "       'Bart', 'Bart', 'Bart', 'Bart', 'Bart', 'Bart', 'Bart', 'Bart',\n",
              "       'Bart', 'Bart', 'Bart', 'Bart', 'Bart', 'Bart', 'Bart', 'Bart',\n",
              "       'Bart', 'Bart', 'Bart', 'Bart', 'Bart', 'Bart', 'Bart', 'Bart',\n",
              "       'Bart', 'Bart', 'Bart', 'Bart', 'Bart', 'Bart', 'Bart', 'Bart',\n",
              "       'Bart', 'Bart', 'Bart', 'Bart', 'Bart', 'Bart', 'Bart', 'Bart',\n",
              "       'Bart', 'Bart', 'Bart', 'Bart', 'Bart', 'Bart', 'Bart', 'Bart',\n",
              "       'Bart', 'Bart', 'Bart', 'Bart', 'Bart', 'Bart', 'Bart', 'Bart',\n",
              "       'Bart', 'Bart', 'Bart', 'Bart', 'Bart', 'Bart', 'Bart', 'Bart',\n",
              "       'Bart', 'Bart', 'Bart', 'Bart', 'Bart', 'Bart', 'Bart', 'Bart',\n",
              "       'Bart', 'Bart', 'Bart', 'Bart', 'Bart', 'Bart', 'Bart', 'Bart',\n",
              "       'Bart', 'Bart', 'Bart', 'Bart', 'Bart', 'Bart', 'Bart', 'Bart',\n",
              "       'Bart', 'Bart', 'Bart', 'Bart', 'Bart', 'Bart', 'Bart', 'Bart',\n",
              "       'Bart', 'Bart', 'Bart', 'Bart', 'Bart', 'Bart', 'Bart', 'Bart',\n",
              "       'Bart', 'Homer', 'Homer', 'Homer', 'Homer', 'Homer', 'Homer',\n",
              "       'Homer', 'Homer', 'Homer', 'Homer', 'Homer', 'Homer', 'Homer',\n",
              "       'Homer', 'Homer', 'Homer', 'Homer', 'Homer', 'Homer', 'Homer',\n",
              "       'Homer', 'Homer', 'Homer', 'Homer', 'Homer', 'Homer', 'Homer',\n",
              "       'Homer', 'Homer', 'Homer', 'Homer', 'Homer', 'Homer', 'Homer',\n",
              "       'Homer', 'Homer', 'Homer', 'Homer', 'Homer', 'Homer', 'Homer',\n",
              "       'Homer', 'Homer', 'Homer', 'Homer', 'Homer', 'Homer', 'Homer',\n",
              "       'Homer', 'Homer', 'Homer', 'Homer', 'Homer', 'Homer', 'Homer',\n",
              "       'Homer', 'Homer', 'Homer', 'Homer', 'Homer', 'Homer', 'Homer',\n",
              "       'Homer', 'Homer', 'Homer', 'Homer', 'Homer', 'Homer', 'Homer',\n",
              "       'Homer', 'Homer', 'Homer', 'Homer', 'Homer', 'Homer', 'Homer',\n",
              "       'Homer', 'Homer', 'Homer', 'Homer', 'Homer', 'Homer', 'Homer',\n",
              "       'Homer', 'Homer', 'Homer', 'Homer', 'Homer', 'Homer', 'Homer',\n",
              "       'Homer', 'Homer', 'Homer', 'Homer', 'Homer', 'Homer', 'Homer',\n",
              "       'Homer', 'Homer', 'Homer', 'Homer', 'Homer', 'Homer', 'Homer',\n",
              "       'Homer', 'Homer', 'Homer', 'Homer', 'Homer', 'Homer', 'Homer',\n",
              "       'Homer', 'Homer', 'Homer', 'Homer', 'Homer', 'Homer', 'Homer',\n",
              "       'Homer', 'Homer', 'Homer', 'Homer', 'Homer', 'Homer'], dtype=object)"
            ]
          },
          "metadata": {
            "tags": []
          },
          "execution_count": 10
        }
      ]
    },
    {
      "cell_type": "code",
      "metadata": {
        "id": "IyoYARSd4rkT",
        "colab": {
          "base_uri": "https://localhost:8080/",
          "height": 618
        },
        "outputId": "a21fba43-3934-4bae-d4c5-baf7772be4b4"
      },
      "source": [
        "y = (y == 'Bart')\n",
        "y"
      ],
      "execution_count": null,
      "outputs": [
        {
          "output_type": "execute_result",
          "data": {
            "text/plain": [
              "array([ True,  True,  True,  True,  True,  True,  True,  True,  True,\n",
              "        True,  True,  True,  True,  True,  True,  True,  True,  True,\n",
              "        True,  True,  True,  True,  True,  True,  True,  True,  True,\n",
              "        True,  True,  True,  True,  True,  True,  True,  True,  True,\n",
              "        True,  True,  True,  True,  True,  True,  True,  True,  True,\n",
              "        True,  True,  True,  True,  True,  True,  True,  True,  True,\n",
              "        True,  True,  True,  True,  True,  True,  True,  True,  True,\n",
              "        True,  True,  True,  True,  True,  True,  True,  True,  True,\n",
              "        True,  True,  True,  True,  True,  True,  True,  True,  True,\n",
              "        True,  True,  True,  True,  True,  True,  True,  True,  True,\n",
              "        True,  True,  True,  True,  True,  True,  True,  True,  True,\n",
              "        True,  True,  True,  True,  True,  True,  True,  True,  True,\n",
              "        True,  True,  True,  True,  True,  True,  True,  True,  True,\n",
              "        True,  True,  True,  True,  True,  True,  True,  True,  True,\n",
              "        True,  True,  True,  True,  True,  True,  True,  True,  True,\n",
              "        True,  True,  True,  True,  True,  True,  True,  True,  True,\n",
              "        True,  True,  True,  True,  True,  True,  True,  True,  True,\n",
              "        True,  True,  True,  True,  True,  True,  True,  True,  True,\n",
              "        True,  True,  True,  True,  True,  True,  True, False, False,\n",
              "       False, False, False, False, False, False, False, False, False,\n",
              "       False, False, False, False, False, False, False, False, False,\n",
              "       False, False, False, False, False, False, False, False, False,\n",
              "       False, False, False, False, False, False, False, False, False,\n",
              "       False, False, False, False, False, False, False, False, False,\n",
              "       False, False, False, False, False, False, False, False, False,\n",
              "       False, False, False, False, False, False, False, False, False,\n",
              "       False, False, False, False, False, False, False, False, False,\n",
              "       False, False, False, False, False, False, False, False, False,\n",
              "       False, False, False, False, False, False, False, False, False,\n",
              "       False, False, False, False, False, False, False, False, False,\n",
              "       False, False, False, False, False, False, False, False, False,\n",
              "       False, False, False, False, False, False, False, False, False,\n",
              "       False, False, False, False, False])"
            ]
          },
          "metadata": {
            "tags": []
          },
          "execution_count": 11
        }
      ]
    },
    {
      "cell_type": "code",
      "metadata": {
        "id": "qLJJ4b1O42Cu"
      },
      "source": [
        "from sklearn.model_selection import train_test_split\n",
        "X_treinamento, X_teste, y_treinamento, y_teste = train_test_split(X, y, test_size = 0.2)"
      ],
      "execution_count": null,
      "outputs": []
    },
    {
      "cell_type": "code",
      "metadata": {
        "id": "R5C7cQXu5MtO",
        "colab": {
          "base_uri": "https://localhost:8080/",
          "height": 55
        },
        "outputId": "7627b532-d75e-40fe-f180-560cdf20e325"
      },
      "source": [
        "X_treinamento.shape, y_treinamento.shape"
      ],
      "execution_count": null,
      "outputs": [
        {
          "output_type": "execute_result",
          "data": {
            "text/plain": [
              "((234, 6), (234,))"
            ]
          },
          "metadata": {
            "tags": []
          },
          "execution_count": 13
        }
      ]
    },
    {
      "cell_type": "code",
      "metadata": {
        "id": "_q29-Iev5Ykc",
        "colab": {
          "base_uri": "https://localhost:8080/",
          "height": 55
        },
        "outputId": "448e423a-5209-4b5b-d990-68d052c8c047"
      },
      "source": [
        "X_teste.shape, y_teste.shape"
      ],
      "execution_count": null,
      "outputs": [
        {
          "output_type": "execute_result",
          "data": {
            "text/plain": [
              "((59, 6), (59,))"
            ]
          },
          "metadata": {
            "tags": []
          },
          "execution_count": 14
        }
      ]
    },
    {
      "cell_type": "markdown",
      "metadata": {
        "id": "tYrSmoKVvRD9"
      },
      "source": [
        "## Construção e treinamento da rede neural"
      ]
    },
    {
      "cell_type": "code",
      "metadata": {
        "id": "ZZgwri6S6RXS",
        "colab": {
          "base_uri": "https://localhost:8080/",
          "height": 55
        },
        "outputId": "797bbdad-65dd-4ec7-e84a-4cde315101a6"
      },
      "source": [
        "(6 + 1) / 2"
      ],
      "execution_count": null,
      "outputs": [
        {
          "output_type": "execute_result",
          "data": {
            "text/plain": [
              "3.5"
            ]
          },
          "metadata": {
            "tags": []
          },
          "execution_count": 15
        }
      ]
    },
    {
      "cell_type": "code",
      "metadata": {
        "id": "0w9cclV66Dc7"
      },
      "source": [
        "# (entradas + saídas) / 2   # 6 neurônios na camada de entrada e 1 neurônio na camada de saída, aplicando assim a \n",
        "# ideia da função sigmóide, pois vai retornar uma probabilidade \n",
        "# O resultado de 3.5 indica que temos 3.5 neurônios em cada camada oculta e daí vamos arredontar para 4\n",
        "#Quando trabalhamos com um camada oculta, temos uma rede neural normal, tradicional, já a partir de 2 camadas ocultas\n",
        "#já estamos trabalhando com deep learning(aprendizagem profunda)\n",
        "# 6 -> 4 -> 4 -> 4 -> 1  #O 4 está aparecendo 3x, pois estamos trabalhando com 3 camadas ocultas.. o 1 é referente \n",
        "#a camada de saída que só tem 1 neurônio e vai nos indicar se é Homer ou Bart"
      ],
      "execution_count": null,
      "outputs": []
    },
    {
      "cell_type": "code",
      "metadata": {
        "id": "vTXmpyQT6gTa"
      },
      "source": [
        "rede_neural = tf.keras.models.Sequential() #Tem esse nome \"Sequencial\", pois uma rede neural é uma sequência de camadas\n",
        "#conforme temos 6(camada de entrada) -> (4 -> 4 -> 4,)(Camadas ocultas)  -> 1(camada de saída)\n",
        "# Nos próximos passos iremos adicionando cada uma dessas camadas\n",
        "#Dense significa que todos os 6 neurônios da camada de entrada estão ligados aos outros 4 seguintes e assim por diante, ou\n",
        "# seja, esses 4 estão ligados com os 4 seguintes e assim por diante.\n",
        "rede_neural.add(tf.keras.layers.Dense(units=4, activation='relu', input_shape=(6,)))\n",
        "#units siginifica a qtt de neurônios nessa camada; activation é a função de ativação\n",
        "#Qd trabalhos com redes neurais e deep learning é comum usar a função de ativação relu.\n",
        "rede_neural.add(tf.keras.layers.Dense(units=4, activation='relu'))\n",
        "rede_neural.add(tf.keras.layers.Dense(units=4, activation='relu'))\n",
        "rede_neural.add(tf.keras.layers.Dense(units=1, activation='sigmoid')) #essa última ligação é da última camada oculta de 4\n",
        "#neurônios com a camada de saída que só tem 1. E como temos um problema de classificação, temos de colocar a função\n",
        "#sigmoide que é para probabilidade."
      ],
      "execution_count": null,
      "outputs": []
    },
    {
      "cell_type": "code",
      "metadata": {
        "id": "CAJjmKJ77XCg",
        "colab": {
          "base_uri": "https://localhost:8080/",
          "height": 319
        },
        "outputId": "1af9b278-05b3-4039-e68e-c7cddd09cdd4"
      },
      "source": [
        "rede_neural.summary() #73 é igual a qtt de pesos a serem atualizados"
      ],
      "execution_count": null,
      "outputs": [
        {
          "output_type": "stream",
          "text": [
            "Model: \"sequential\"\n",
            "_________________________________________________________________\n",
            "Layer (type)                 Output Shape              Param #   \n",
            "=================================================================\n",
            "dense (Dense)                (None, 4)                 28        \n",
            "_________________________________________________________________\n",
            "dense_1 (Dense)              (None, 4)                 20        \n",
            "_________________________________________________________________\n",
            "dense_2 (Dense)              (None, 4)                 20        \n",
            "_________________________________________________________________\n",
            "dense_3 (Dense)              (None, 1)                 5         \n",
            "=================================================================\n",
            "Total params: 73\n",
            "Trainable params: 73\n",
            "Non-trainable params: 0\n",
            "_________________________________________________________________\n"
          ],
          "name": "stdout"
        }
      ]
    },
    {
      "cell_type": "code",
      "metadata": {
        "id": "LEXtNCPf7ffI"
      },
      "source": [
        "rede_neural.compile(optimizer='Adam', loss='binary_crossentropy', metrics = ['accuracy'])\n",
        "#otimizador mais utilizado é o Adam, pois tem uma descida melhor em relação ao Stocastico\n",
        "#loss é para cálculo do erro"
      ],
      "execution_count": null,
      "outputs": []
    },
    {
      "cell_type": "code",
      "metadata": {
        "id": "k4kcFjJ577OG",
        "colab": {
          "base_uri": "https://localhost:8080/",
          "height": 1000
        },
        "outputId": "b879ca0a-1a1f-4272-b210-15b407c59492"
      },
      "source": [
        "historico = rede_neural.fit(X_treinamento, y_treinamento, epochs=50, validation_split=0.1) #fit significa encaixar \n",
        "#essa rede neural\n",
        "#a base de treinamento é para a rede neural aprender, a base de teste é para quando ela já esta treinada, nós iremos\n",
        "#comparar resultados ao final\n",
        "#e a validação é utilizada enquanto estivermos fazendo o treinamento após ser realizado cada época, é submetido essa base\n",
        "#de dados de validação(0.1) que equivale a 10% dessa base de dados de treinamento e já fazer um teste. Então quer dizer que\n",
        "#a cada época, podemos acompanhar o progresso da rede neural em uma base de dados diferente, pois não é recomendado\n",
        "#utilizar a mesma base de dados. Então temos 234 registros, mas é como se utilizasse 23 registros e colocasse na base de\n",
        "#dados de validação\n",
        "# destes registros ele vai treinar com 200 registros somente e 34 ele vai utilizar para fazer os testes para cada época\n",
        "#a base de dados de validação"
      ],
      "execution_count": null,
      "outputs": [
        {
          "output_type": "stream",
          "text": [
            "Epoch 1/50\n",
            "7/7 [==============================] - 0s 35ms/step - loss: 0.7514 - accuracy: 0.4286 - val_loss: 0.7271 - val_accuracy: 0.4583\n",
            "Epoch 2/50\n",
            "7/7 [==============================] - 0s 6ms/step - loss: 0.7405 - accuracy: 0.4333 - val_loss: 0.7205 - val_accuracy: 0.3333\n",
            "Epoch 3/50\n",
            "7/7 [==============================] - 0s 5ms/step - loss: 0.7315 - accuracy: 0.4286 - val_loss: 0.7143 - val_accuracy: 0.3333\n",
            "Epoch 4/50\n",
            "7/7 [==============================] - 0s 6ms/step - loss: 0.7225 - accuracy: 0.4190 - val_loss: 0.7091 - val_accuracy: 0.3333\n",
            "Epoch 5/50\n",
            "7/7 [==============================] - 0s 6ms/step - loss: 0.7156 - accuracy: 0.4143 - val_loss: 0.7043 - val_accuracy: 0.3333\n",
            "Epoch 6/50\n",
            "7/7 [==============================] - 0s 6ms/step - loss: 0.7090 - accuracy: 0.4238 - val_loss: 0.7004 - val_accuracy: 0.3750\n",
            "Epoch 7/50\n",
            "7/7 [==============================] - 0s 8ms/step - loss: 0.7028 - accuracy: 0.4619 - val_loss: 0.6970 - val_accuracy: 0.4583\n",
            "Epoch 8/50\n",
            "7/7 [==============================] - 0s 6ms/step - loss: 0.6974 - accuracy: 0.4905 - val_loss: 0.6931 - val_accuracy: 0.5833\n",
            "Epoch 9/50\n",
            "7/7 [==============================] - 0s 6ms/step - loss: 0.6919 - accuracy: 0.5238 - val_loss: 0.6891 - val_accuracy: 0.6667\n",
            "Epoch 10/50\n",
            "7/7 [==============================] - 0s 4ms/step - loss: 0.6869 - accuracy: 0.5762 - val_loss: 0.6865 - val_accuracy: 0.6667\n",
            "Epoch 11/50\n",
            "7/7 [==============================] - 0s 5ms/step - loss: 0.6827 - accuracy: 0.6571 - val_loss: 0.6838 - val_accuracy: 0.6250\n",
            "Epoch 12/50\n",
            "7/7 [==============================] - 0s 4ms/step - loss: 0.6786 - accuracy: 0.7238 - val_loss: 0.6813 - val_accuracy: 0.6667\n",
            "Epoch 13/50\n",
            "7/7 [==============================] - 0s 4ms/step - loss: 0.6743 - accuracy: 0.7381 - val_loss: 0.6788 - val_accuracy: 0.6667\n",
            "Epoch 14/50\n",
            "7/7 [==============================] - 0s 5ms/step - loss: 0.6703 - accuracy: 0.7333 - val_loss: 0.6761 - val_accuracy: 0.6667\n",
            "Epoch 15/50\n",
            "7/7 [==============================] - 0s 5ms/step - loss: 0.6664 - accuracy: 0.7333 - val_loss: 0.6735 - val_accuracy: 0.6667\n",
            "Epoch 16/50\n",
            "7/7 [==============================] - 0s 4ms/step - loss: 0.6624 - accuracy: 0.7333 - val_loss: 0.6709 - val_accuracy: 0.6667\n",
            "Epoch 17/50\n",
            "7/7 [==============================] - 0s 5ms/step - loss: 0.6582 - accuracy: 0.7333 - val_loss: 0.6681 - val_accuracy: 0.6667\n",
            "Epoch 18/50\n",
            "7/7 [==============================] - 0s 4ms/step - loss: 0.6541 - accuracy: 0.7333 - val_loss: 0.6652 - val_accuracy: 0.6667\n",
            "Epoch 19/50\n",
            "7/7 [==============================] - 0s 4ms/step - loss: 0.6497 - accuracy: 0.7381 - val_loss: 0.6618 - val_accuracy: 0.6667\n",
            "Epoch 20/50\n",
            "7/7 [==============================] - 0s 5ms/step - loss: 0.6448 - accuracy: 0.7429 - val_loss: 0.6580 - val_accuracy: 0.6667\n",
            "Epoch 21/50\n",
            "7/7 [==============================] - 0s 4ms/step - loss: 0.6396 - accuracy: 0.7524 - val_loss: 0.6537 - val_accuracy: 0.6667\n",
            "Epoch 22/50\n",
            "7/7 [==============================] - 0s 4ms/step - loss: 0.6339 - accuracy: 0.7619 - val_loss: 0.6489 - val_accuracy: 0.6667\n",
            "Epoch 23/50\n",
            "7/7 [==============================] - 0s 4ms/step - loss: 0.6277 - accuracy: 0.7810 - val_loss: 0.6435 - val_accuracy: 0.7083\n",
            "Epoch 24/50\n",
            "7/7 [==============================] - 0s 5ms/step - loss: 0.6208 - accuracy: 0.7857 - val_loss: 0.6376 - val_accuracy: 0.7500\n",
            "Epoch 25/50\n",
            "7/7 [==============================] - 0s 4ms/step - loss: 0.6136 - accuracy: 0.7952 - val_loss: 0.6310 - val_accuracy: 0.7500\n",
            "Epoch 26/50\n",
            "7/7 [==============================] - 0s 4ms/step - loss: 0.6054 - accuracy: 0.8143 - val_loss: 0.6237 - val_accuracy: 0.7500\n",
            "Epoch 27/50\n",
            "7/7 [==============================] - 0s 4ms/step - loss: 0.5967 - accuracy: 0.8190 - val_loss: 0.6155 - val_accuracy: 0.7500\n",
            "Epoch 28/50\n",
            "7/7 [==============================] - 0s 4ms/step - loss: 0.5873 - accuracy: 0.8381 - val_loss: 0.6063 - val_accuracy: 0.7500\n",
            "Epoch 29/50\n",
            "7/7 [==============================] - 0s 4ms/step - loss: 0.5768 - accuracy: 0.8429 - val_loss: 0.5964 - val_accuracy: 0.7500\n",
            "Epoch 30/50\n",
            "7/7 [==============================] - 0s 4ms/step - loss: 0.5651 - accuracy: 0.8571 - val_loss: 0.5859 - val_accuracy: 0.7500\n",
            "Epoch 31/50\n",
            "7/7 [==============================] - 0s 4ms/step - loss: 0.5529 - accuracy: 0.8571 - val_loss: 0.5745 - val_accuracy: 0.7500\n",
            "Epoch 32/50\n",
            "7/7 [==============================] - 0s 4ms/step - loss: 0.5401 - accuracy: 0.8619 - val_loss: 0.5632 - val_accuracy: 0.7917\n",
            "Epoch 33/50\n",
            "7/7 [==============================] - 0s 4ms/step - loss: 0.5276 - accuracy: 0.8667 - val_loss: 0.5517 - val_accuracy: 0.7917\n",
            "Epoch 34/50\n",
            "7/7 [==============================] - 0s 5ms/step - loss: 0.5140 - accuracy: 0.8667 - val_loss: 0.5400 - val_accuracy: 0.7917\n",
            "Epoch 35/50\n",
            "7/7 [==============================] - 0s 4ms/step - loss: 0.5011 - accuracy: 0.8667 - val_loss: 0.5279 - val_accuracy: 0.7917\n",
            "Epoch 36/50\n",
            "7/7 [==============================] - 0s 5ms/step - loss: 0.4870 - accuracy: 0.8667 - val_loss: 0.5154 - val_accuracy: 0.7917\n",
            "Epoch 37/50\n",
            "7/7 [==============================] - 0s 4ms/step - loss: 0.4732 - accuracy: 0.8667 - val_loss: 0.5028 - val_accuracy: 0.7917\n",
            "Epoch 38/50\n",
            "7/7 [==============================] - 0s 5ms/step - loss: 0.4592 - accuracy: 0.8667 - val_loss: 0.4903 - val_accuracy: 0.7917\n",
            "Epoch 39/50\n",
            "7/7 [==============================] - 0s 4ms/step - loss: 0.4457 - accuracy: 0.8714 - val_loss: 0.4779 - val_accuracy: 0.7917\n",
            "Epoch 40/50\n",
            "7/7 [==============================] - 0s 5ms/step - loss: 0.4323 - accuracy: 0.8714 - val_loss: 0.4659 - val_accuracy: 0.7917\n",
            "Epoch 41/50\n",
            "7/7 [==============================] - 0s 4ms/step - loss: 0.4197 - accuracy: 0.8714 - val_loss: 0.4540 - val_accuracy: 0.7917\n",
            "Epoch 42/50\n",
            "7/7 [==============================] - 0s 4ms/step - loss: 0.4069 - accuracy: 0.8714 - val_loss: 0.4428 - val_accuracy: 0.7917\n",
            "Epoch 43/50\n",
            "7/7 [==============================] - 0s 4ms/step - loss: 0.3953 - accuracy: 0.8714 - val_loss: 0.4319 - val_accuracy: 0.7917\n",
            "Epoch 44/50\n",
            "7/7 [==============================] - 0s 5ms/step - loss: 0.3835 - accuracy: 0.8714 - val_loss: 0.4213 - val_accuracy: 0.7917\n",
            "Epoch 45/50\n",
            "7/7 [==============================] - 0s 4ms/step - loss: 0.3728 - accuracy: 0.8762 - val_loss: 0.4114 - val_accuracy: 0.7917\n",
            "Epoch 46/50\n",
            "7/7 [==============================] - 0s 4ms/step - loss: 0.3622 - accuracy: 0.8762 - val_loss: 0.4019 - val_accuracy: 0.7917\n",
            "Epoch 47/50\n",
            "7/7 [==============================] - 0s 4ms/step - loss: 0.3525 - accuracy: 0.8762 - val_loss: 0.3929 - val_accuracy: 0.8333\n",
            "Epoch 48/50\n",
            "7/7 [==============================] - 0s 4ms/step - loss: 0.3436 - accuracy: 0.8762 - val_loss: 0.3842 - val_accuracy: 0.8333\n",
            "Epoch 49/50\n",
            "7/7 [==============================] - 0s 5ms/step - loss: 0.3351 - accuracy: 0.8762 - val_loss: 0.3761 - val_accuracy: 0.8333\n",
            "Epoch 50/50\n",
            "7/7 [==============================] - 0s 6ms/step - loss: 0.3268 - accuracy: 0.8762 - val_loss: 0.3684 - val_accuracy: 0.8333\n"
          ],
          "name": "stdout"
        }
      ]
    },
    {
      "cell_type": "markdown",
      "metadata": {
        "id": "P-qMzGAQwZVM"
      },
      "source": [
        "## Avaliação da rede neural"
      ]
    },
    {
      "cell_type": "code",
      "metadata": {
        "id": "E5ffRZGK9Q6I",
        "colab": {
          "base_uri": "https://localhost:8080/",
          "height": 55
        },
        "outputId": "6e34c7f5-3807-4f8a-c62c-de545e42a89b"
      },
      "source": [
        "historico.history.keys()"
      ],
      "execution_count": null,
      "outputs": [
        {
          "output_type": "execute_result",
          "data": {
            "text/plain": [
              "dict_keys(['loss', 'accuracy', 'val_loss', 'val_accuracy'])"
            ]
          },
          "metadata": {
            "tags": []
          },
          "execution_count": 20
        }
      ]
    },
    {
      "cell_type": "code",
      "metadata": {
        "id": "kK_H5gDi9Xm9",
        "colab": {
          "base_uri": "https://localhost:8080/",
          "height": 303
        },
        "outputId": "7be0b6a2-792d-4a23-d01b-3f574ec30995"
      },
      "source": [
        "plt.plot(historico.history['val_loss'])"
      ],
      "execution_count": null,
      "outputs": [
        {
          "output_type": "execute_result",
          "data": {
            "text/plain": [
              "[<matplotlib.lines.Line2D at 0x7f6b82261588>]"
            ]
          },
          "metadata": {
            "tags": []
          },
          "execution_count": 21
        },
        {
          "output_type": "display_data",
          "data": {
            "image/png": "[encoded data removed]",
            "text/plain": [
              "<Figure size 432x288 with 1 Axes>"
            ]
          },
          "metadata": {
            "tags": [],
            "needs_background": "light"
          }
        }
      ]
    },
    {
      "cell_type": "code",
      "metadata": {
        "id": "6l6rGgUc9n2L",
        "colab": {
          "base_uri": "https://localhost:8080/",
          "height": 303
        },
        "outputId": "3c2d72c9-2e15-40f6-d25f-2e9601213d70"
      },
      "source": [
        "plt.plot(historico.history['val_accuracy'])"
      ],
      "execution_count": null,
      "outputs": [
        {
          "output_type": "execute_result",
          "data": {
            "text/plain": [
              "[<matplotlib.lines.Line2D at 0x7f6b8223bdd8>]"
            ]
          },
          "metadata": {
            "tags": []
          },
          "execution_count": 22
        },
        {
          "output_type": "display_data",
          "data": {
            "image/png": "[encoded data removed]",
            "text/plain": [
              "<Figure size 432x288 with 1 Axes>"
            ]
          },
          "metadata": {
            "tags": [],
            "needs_background": "light"
          }
        }
      ]
    },
    {
      "cell_type": "code",
      "metadata": {
        "id": "yT0imr8W9yBa",
        "colab": {
          "base_uri": "https://localhost:8080/",
          "height": 1000
        },
        "outputId": "28a15d70-8ca8-431d-ee3b-e60f1c096d08"
      },
      "source": [
        "previsoes = rede_neural.predict(X_teste) #a base de dados para treinamento é utilizada para gerar os pesos da rede neural\n",
        "previsoes\n",
        "#a base de dados de validação é utilizado para verificar os resultados parciais da rede neural enquanto ela está treinando\n",
        "#a base de dados de testes é utilizada depois que a rede neural já está treinada\n",
        "#os resultados entre 0 e 1 mostra a probabilidade de ser ou Homer ou Bart"
      ],
      "execution_count": null,
      "outputs": [
        {
          "output_type": "execute_result",
          "data": {
            "text/plain": [
              "array([[0.44313228],\n",
              "       [0.88057196],\n",
              "       [0.3562092 ],\n",
              "       [0.12190324],\n",
              "       [0.05006388],\n",
              "       [0.25517586],\n",
              "       [0.15188372],\n",
              "       [0.93800354],\n",
              "       [0.1537162 ],\n",
              "       [0.4688268 ],\n",
              "       [0.00514391],\n",
              "       [0.53533626],\n",
              "       [0.9005114 ],\n",
              "       [0.72641057],\n",
              "       [0.95797753],\n",
              "       [0.9136754 ],\n",
              "       [0.979062  ],\n",
              "       [0.5561848 ],\n",
              "       [0.3057126 ],\n",
              "       [0.879127  ],\n",
              "       [0.87517065],\n",
              "       [0.87362427],\n",
              "       [0.1524184 ],\n",
              "       [0.19638386],\n",
              "       [0.5551437 ],\n",
              "       [0.8067451 ],\n",
              "       [0.9691733 ],\n",
              "       [0.34362707],\n",
              "       [0.2598365 ],\n",
              "       [0.69530356],\n",
              "       [0.53983676],\n",
              "       [0.82472223],\n",
              "       [0.5650956 ],\n",
              "       [0.956469  ],\n",
              "       [0.08592278],\n",
              "       [0.8904241 ],\n",
              "       [0.5610439 ],\n",
              "       [0.4677466 ],\n",
              "       [0.5564329 ],\n",
              "       [0.5477443 ],\n",
              "       [0.8763091 ],\n",
              "       [0.3551928 ],\n",
              "       [0.09169555],\n",
              "       [0.5547167 ],\n",
              "       [0.98722005],\n",
              "       [0.9292269 ],\n",
              "       [0.55659175],\n",
              "       [0.9565009 ],\n",
              "       [0.5561587 ],\n",
              "       [0.7581792 ],\n",
              "       [0.5320917 ],\n",
              "       [0.22211173],\n",
              "       [0.7446002 ],\n",
              "       [0.92531025],\n",
              "       [0.5557175 ],\n",
              "       [0.55659175],\n",
              "       [0.7153398 ],\n",
              "       [0.5493143 ],\n",
              "       [0.8685213 ]], dtype=float32)"
            ]
          },
          "metadata": {
            "tags": []
          },
          "execution_count": 23
        }
      ]
    },
    {
      "cell_type": "code",
      "metadata": {
        "id": "--kBZHRt-Si9"
      },
      "source": [
        "# 1 True - Bart\n",
        "# 0 False - Homer"
      ],
      "execution_count": null,
      "outputs": []
    },
    {
      "cell_type": "code",
      "metadata": {
        "id": "XZj9imeG-cyy",
        "colab": {
          "base_uri": "https://localhost:8080/",
          "height": 1000
        },
        "outputId": "31cb8335-19b2-4785-8c6a-a7ca2750be25"
      },
      "source": [
        "previsoes = (previsoes > 0.5)\n",
        "previsoes"
      ],
      "execution_count": null,
      "outputs": [
        {
          "output_type": "execute_result",
          "data": {
            "text/plain": [
              "array([[False],\n",
              "       [ True],\n",
              "       [False],\n",
              "       [False],\n",
              "       [False],\n",
              "       [False],\n",
              "       [False],\n",
              "       [ True],\n",
              "       [False],\n",
              "       [False],\n",
              "       [False],\n",
              "       [ True],\n",
              "       [ True],\n",
              "       [ True],\n",
              "       [ True],\n",
              "       [ True],\n",
              "       [ True],\n",
              "       [ True],\n",
              "       [False],\n",
              "       [ True],\n",
              "       [ True],\n",
              "       [ True],\n",
              "       [False],\n",
              "       [False],\n",
              "       [ True],\n",
              "       [ True],\n",
              "       [ True],\n",
              "       [False],\n",
              "       [False],\n",
              "       [ True],\n",
              "       [ True],\n",
              "       [ True],\n",
              "       [ True],\n",
              "       [ True],\n",
              "       [False],\n",
              "       [ True],\n",
              "       [ True],\n",
              "       [False],\n",
              "       [ True],\n",
              "       [ True],\n",
              "       [ True],\n",
              "       [False],\n",
              "       [False],\n",
              "       [ True],\n",
              "       [ True],\n",
              "       [ True],\n",
              "       [ True],\n",
              "       [ True],\n",
              "       [ True],\n",
              "       [ True],\n",
              "       [ True],\n",
              "       [False],\n",
              "       [ True],\n",
              "       [ True],\n",
              "       [ True],\n",
              "       [ True],\n",
              "       [ True],\n",
              "       [ True],\n",
              "       [ True]])"
            ]
          },
          "metadata": {
            "tags": []
          },
          "execution_count": 24
        }
      ]
    },
    {
      "cell_type": "code",
      "metadata": {
        "id": "_ELq2pJ6-xKL",
        "colab": {
          "base_uri": "https://localhost:8080/",
          "height": 160
        },
        "outputId": "1559ad27-6409-42d7-a194-ecc44b70ec78"
      },
      "source": [
        "y_teste"
      ],
      "execution_count": null,
      "outputs": [
        {
          "output_type": "execute_result",
          "data": {
            "text/plain": [
              "array([False,  True, False, False, False, False, False,  True, False,\n",
              "       False, False,  True,  True,  True,  True,  True,  True, False,\n",
              "       False,  True,  True,  True, False, False, False,  True,  True,\n",
              "       False, False,  True,  True,  True, False,  True, False,  True,\n",
              "        True, False,  True, False,  True, False, False,  True,  True,\n",
              "        True,  True,  True,  True,  True, False, False,  True,  True,\n",
              "        True,  True,  True, False,  True])"
            ]
          },
          "metadata": {
            "tags": []
          },
          "execution_count": 25
        }
      ]
    },
    {
      "cell_type": "code",
      "metadata": {
        "id": "tDT4-v0b-_qJ",
        "colab": {
          "base_uri": "https://localhost:8080/",
          "height": 55
        },
        "outputId": "0f6189b0-1382-4bde-a683-563cbcf0aec5"
      },
      "source": [
        "from sklearn.metrics import accuracy_score\n",
        "accuracy_score(previsoes, y_teste)"
      ],
      "execution_count": null,
      "outputs": [
        {
          "output_type": "execute_result",
          "data": {
            "text/plain": [
              "0.8983050847457628"
            ]
          },
          "metadata": {
            "tags": []
          },
          "execution_count": 26
        }
      ]
    },
    {
      "cell_type": "code",
      "metadata": {
        "id": "003Bc2Rh_Izf",
        "colab": {
          "base_uri": "https://localhost:8080/",
          "height": 72
        },
        "outputId": "11afed67-768c-4648-beed-53f8b14769af"
      },
      "source": [
        "from sklearn.metrics import confusion_matrix\n",
        "cm = confusion_matrix(y_teste, previsoes)\n",
        "cm"
      ],
      "execution_count": null,
      "outputs": [
        {
          "output_type": "execute_result",
          "data": {
            "text/plain": [
              "array([[19,  6],\n",
              "       [ 0, 34]])"
            ]
          },
          "metadata": {
            "tags": []
          },
          "execution_count": 27
        }
      ]
    },
    {
      "cell_type": "code",
      "metadata": {
        "id": "2XRRlMmY_RQ1",
        "colab": {
          "base_uri": "https://localhost:8080/",
          "height": 303
        },
        "outputId": "6f6689da-5031-4660-ee1d-1220257b8785"
      },
      "source": [
        "sns.heatmap(cm, annot=True) #6 imagens do Homer foram classificadas como Bart e 19 Homers como Homer\n",
        "#0 imagens do Bart foram classificadas como Homer e 34 imagens do Bart como Bart\n",
        "# annot = True nos mostra os valores"
      ],
      "execution_count": null,
      "outputs": [
        {
          "output_type": "execute_result",
          "data": {
            "text/plain": [
              "<matplotlib.axes._subplots.AxesSubplot at 0x7f6b821a7b70>"
            ]
          },
          "metadata": {
            "tags": []
          },
          "execution_count": 28
        },
        {
          "output_type": "display_data",
          "data": {
            "image/png": "[encoded data removed]",
            "text/plain": [
              "<Figure size 432x288 with 2 Axes>"
            ]
          },
          "metadata": {
            "tags": [],
            "needs_background": "light"
          }
        }
      ]
    }
  ]
}